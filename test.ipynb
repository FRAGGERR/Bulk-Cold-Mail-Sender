{
 "cells": [
  {
   "cell_type": "markdown",
   "id": "c2233267",
   "metadata": {},
   "source": [
    "# SGAN:"
   ]
  },
  {
   "cell_type": "code",
   "execution_count": null,
   "id": "c57cfe27",
   "metadata": {},
   "outputs": [
    {
     "name": "stdout",
     "output_type": "stream",
     "text": [
      "Email sent to hardikchhipa28@gmail.com\n",
      "Email sent to janenie0541@gmail.com\n",
      "Email sent to hc8294@srmist.edu.in\n"
     ]
    },
    {
     "data": {
      "text/plain": [
       "(221,\n",
       " b'2.0.0 closing connection d2e1a72fcca58-747affd55adsm5509575b3a.156 - gsmtp')"
      ]
     },
     "execution_count": 1,
     "metadata": {},
     "output_type": "execute_result"
    }
   ],
   "source": [
    "import smtplib\n",
    "from email.mime.text import MIMEText\n",
    "from email.mime.multipart import MIMEMultipart\n",
    "\n",
    "# Gmail credentials\n",
    "sender_email = \"hardikchhipa28@gmail.com\"\n",
    "sender_password = \"**********\"\n",
    "\n",
    "# Email content\n",
    "subject = \"Important Update\"\n",
    "body = \"Hello,\\n\\nThis is an automated message sent via Python.\\n\\nRegards,\\nHardik\"\n",
    "\n",
    "# List of recipients\n",
    "recipients = [\n",
    "    \"hardikchhipa28@gmail.com\",\n",
    "    \"janenie0541@gmail.com\",\n",
    "    \"hc8294@srmist.edu.in\"\n",
    "]\n",
    "\n",
    "# Create the SMTP session\n",
    "server = smtplib.SMTP(\"smtp.gmail.com\", 587)\n",
    "server.starttls()\n",
    "server.login(sender_email, sender_password)\n",
    "\n",
    "for receiver_email in recipients:\n",
    "    msg = MIMEMultipart()\n",
    "    msg[\"From\"] = sender_email\n",
    "    msg[\"To\"] = receiver_email\n",
    "    msg[\"Subject\"] = subject\n",
    "    msg.attach(MIMEText(body, \"plain\"))\n",
    "    \n",
    "    server.sendmail(sender_email, receiver_email, msg.as_string())\n",
    "    print(f\"Email sent to {receiver_email}\")\n",
    "\n",
    "server.quit()"
   ]
  }
 ],
 "metadata": {
  "kernelspec": {
   "display_name": "myenv",
   "language": "python",
   "name": "python3"
  },
  "language_info": {
   "codemirror_mode": {
    "name": "ipython",
    "version": 3
   },
   "file_extension": ".py",
   "mimetype": "text/x-python",
   "name": "python",
   "nbconvert_exporter": "python",
   "pygments_lexer": "ipython3",
   "version": "3.13.1"
  }
 },
 "nbformat": 4,
 "nbformat_minor": 5
}
